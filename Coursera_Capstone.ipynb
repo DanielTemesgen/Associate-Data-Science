{
  "nbformat": 4,
  "nbformat_minor": 0,
  "metadata": {
    "colab": {
      "name": "Coursera_Capstone.ipynb",
      "version": "0.3.2",
      "provenance": []
    },
    "kernelspec": {
      "name": "python3",
      "display_name": "Python 3"
    }
  },
  "cells": [
    {
      "cell_type": "markdown",
      "metadata": {
        "id": "TTrj_zdKPwTN",
        "colab_type": "text"
      },
      "source": [
        "# Coursera Capstone"
      ]
    },
    {
      "cell_type": "markdown",
      "metadata": {
        "id": "CRX_ape5QAhF",
        "colab_type": "text"
      },
      "source": [
        "This code is mainly used for the coursera [Applied Data Science Capstone](https://www.coursera.org/learn/applied-data-science-capstone)."
      ]
    },
    {
      "cell_type": "code",
      "metadata": {
        "id": "Rh_Z7Uk9P9PF",
        "colab_type": "code",
        "colab": {}
      },
      "source": [
        "import pandas as pd\n",
        "import numpy as np"
      ],
      "execution_count": 0,
      "outputs": []
    },
    {
      "cell_type": "code",
      "metadata": {
        "id": "RFm5EqiiP0eD",
        "colab_type": "code",
        "colab": {
          "base_uri": "https://localhost:8080/",
          "height": 34
        },
        "outputId": "348e83cc-fef3-4c95-a3aa-0b6b729e9ca3"
      },
      "source": [
        "print(\"Hello Capstone Project Course!\")"
      ],
      "execution_count": 4,
      "outputs": [
        {
          "output_type": "stream",
          "text": [
            "Hello Capstone Project Course!\n"
          ],
          "name": "stdout"
        }
      ]
    }
  ]
}
